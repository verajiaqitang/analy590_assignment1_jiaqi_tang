{
 "cells": [
  {
   "cell_type": "code",
   "execution_count": 1,
   "metadata": {},
   "outputs": [],
   "source": [
    "###import the package we need\n",
    "import pandas as pd\n",
    "import numpy as np\n",
    "import matplotlib.pyplot as plt\n",
    "import matplotlib\n",
    "matplotlib.rcParams.update({'font.size': 12})\n",
    "from sklearn import preprocessing\n",
    "from sklearn.model_selection import train_test_split\n",
    "from sklearn.linear_model import LinearRegression\n",
    "from sklearn.linear_model import Ridge, RidgeCV, Lasso, LassoCV"
   ]
  },
  {
   "cell_type": "code",
   "execution_count": 2,
   "metadata": {},
   "outputs": [],
   "source": [
    "##set up alphas\n",
    "alphas = 10**np.linspace(10,-2,100)*0.5"
   ]
  },
  {
   "cell_type": "code",
   "execution_count": 3,
   "metadata": {},
   "outputs": [
    {
     "name": "stdout",
     "output_type": "stream",
     "text": [
      "<class 'pandas.core.frame.DataFrame'>\n",
      "RangeIndex: 322 entries, 0 to 321\n",
      "Data columns (total 21 columns):\n",
      "Unnamed: 0    322 non-null object\n",
      "AtBat         322 non-null int64\n",
      "Hits          322 non-null int64\n",
      "HmRun         322 non-null int64\n",
      "Runs          322 non-null int64\n",
      "RBI           322 non-null int64\n",
      "Walks         322 non-null int64\n",
      "Years         322 non-null int64\n",
      "CAtBat        322 non-null int64\n",
      "CHits         322 non-null int64\n",
      "CHmRun        322 non-null int64\n",
      "CRuns         322 non-null int64\n",
      "CRBI          322 non-null int64\n",
      "CWalks        322 non-null int64\n",
      "League        322 non-null object\n",
      "Division      322 non-null object\n",
      "PutOuts       322 non-null int64\n",
      "Assists       322 non-null int64\n",
      "Errors        322 non-null int64\n",
      "Salary        263 non-null float64\n",
      "NewLeague     322 non-null object\n",
      "dtypes: float64(1), int64(16), object(4)\n",
      "memory usage: 52.9+ KB\n"
     ]
    }
   ],
   "source": [
    "##load data\n",
    "dat=pd.read_csv('/Users/jiaqitang/Downloads/Hitters.csv')\n",
    "dat.info()"
   ]
  },
  {
   "cell_type": "code",
   "execution_count": 4,
   "metadata": {},
   "outputs": [],
   "source": [
    "##filter the data for prediction and remove n/a\n",
    "dat=dat[['AtBat','Hits','HmRun','Runs','RBI','Walks','Years','CAtBat','CHits','CHmRun','CRuns','CRBI','CWalks','PutOuts','Assists','Errors','Salary']]\n",
    "dat=dat.dropna()"
   ]
  },
  {
   "cell_type": "code",
   "execution_count": 5,
   "metadata": {},
   "outputs": [],
   "source": [
    "##get target and features\n",
    "Y=dat.Salary\n",
    "X=dat.drop('Salary',axis=1)"
   ]
  },
  {
   "cell_type": "code",
   "execution_count": 6,
   "metadata": {},
   "outputs": [],
   "source": [
    "##normalized the data\n",
    "X=preprocessing.normalize(X)\n",
    "Y=preprocessing.scale(Y)\n"
   ]
  },
  {
   "cell_type": "code",
   "execution_count": 7,
   "metadata": {},
   "outputs": [],
   "source": [
    "xlabs=['AtBat','Hits','HmRun','Runs','RBI','Walks','Years','CAtBat','CHits','CHmRun','CRuns','CRBI','CWalks','PutOuts','Assists','Errors','Salary']"
   ]
  },
  {
   "cell_type": "code",
   "execution_count": 8,
   "metadata": {},
   "outputs": [],
   "source": [
    "##split data for train and test\n",
    "X_train,X_test,y_train,y_test=train_test_split(X,Y, test_size=0.3, random_state=31)"
   ]
  },
  {
   "cell_type": "markdown",
   "metadata": {},
   "source": [
    "1.1\n",
    "Use LASSO regression to predict Salary from the other numeric predictors.Create a visualization of the coefficient trajectories. \n",
    "Comment on which are the final three predictors that remain in the model. \n",
    "\n",
    "Use cross-validation to find the optimal value of the regularization penality. \n",
    "How many predictors are left in that model?\n"
   ]
  },
  {
   "cell_type": "code",
   "execution_count": 11,
   "metadata": {},
   "outputs": [
    {
     "data": {
      "text/plain": [
       "Lasso(alpha=1e-05, copy_X=True, fit_intercept=True, max_iter=10000,\n",
       "   normalize=True, positive=False, precompute=False, random_state=None,\n",
       "   selection='cyclic', tol=0.0001, warm_start=False)"
      ]
     },
     "execution_count": 11,
     "metadata": {},
     "output_type": "execute_result"
    }
   ],
   "source": [
    "#Use LASSO regression to predict Salary \n",
    "lasso = Lasso(alpha=0.00001,max_iter = 10000, normalize = True)\n",
    "lasso.fit(X_train,y_train)\n"
   ]
  },
  {
   "cell_type": "code",
   "execution_count": 202,
   "metadata": {},
   "outputs": [
    {
     "name": "stdout",
     "output_type": "stream",
     "text": [
      "from the graph, the final three predictors that remain in the model are ['AtBat', 'Years', 'CRBI']\n"
     ]
    },
    {
     "data": {
      "image/png": "[encoded data removed]",
      "text/plain": [
       "<Figure size 864x360 with 1 Axes>"
      ]
     },
     "metadata": {
      "needs_background": "light"
     },
     "output_type": "display_data"
    }
   ],
   "source": [
    "##visulize and feature selection\n",
    "lasso = Lasso(max_iter = 10000, normalize = True)\n",
    "coefs = []\n",
    "i=0\n",
    "for a in alphas:\n",
    "    \n",
    "    lasso.set_params(alpha=a)\n",
    "    lasso.fit(X_train, y_train)\n",
    "    coefs.append(lasso.coef_)\n",
    "    i=i+1\n",
    "    if(len(lasso.coef_[lasso.coef_ !=0.0])==3):\n",
    "        break\n",
    "    #print(lasso.coef_[lasso.coef_ != 0.0])\n",
    "plt.figure(figsize=(12,5))    \n",
    "ax = plt.gca()\n",
    "ax.plot(alphas[0:i]*2, coefs)\n",
    "ax.set_xscale('log')\n",
    "plt.axis('tight')\n",
    "plt.xlabel('alpha')\n",
    "plt.ylabel('weights')\n",
    "features_name=[xlabs[i] for i in np.where(lasso.coef_)[0]]\n",
    "print(\"from the graph, the final three predictors that remain in the model are\", features_name)"
   ]
  },
  {
   "cell_type": "code",
   "execution_count": 18,
   "metadata": {},
   "outputs": [
    {
     "data": {
      "text/plain": [
       "0.6425946380559222"
      ]
     },
     "execution_count": 18,
     "metadata": {},
     "output_type": "execute_result"
    }
   ],
   "source": [
    "##Use cross-validation to find the optimal value of the regularization penality. \n",
    "from sklearn.metrics import mean_squared_error\n",
    "lassocv = LassoCV(alphas = alphas, cv = 10, max_iter = 100000, normalize = True)\n",
    "lassocv.fit(X_train, y_train)\n",
    "lasso.set_params(alpha=lassocv.alpha_)\n",
    "lasso.fit(X_train, y_train)\n",
    "mean_squared_error(y_test, lasso.predict(X_test))"
   ]
  },
  {
   "cell_type": "code",
   "execution_count": 19,
   "metadata": {},
   "outputs": [
    {
     "name": "stdout",
     "output_type": "stream",
     "text": [
      "from the graph, the final three predictors that remain in the model is 6\n"
     ]
    },
    {
     "data": {
      "image/png": "[encoded data removed]",
      "text/plain": [
       "<Figure size 432x288 with 1 Axes>"
      ]
     },
     "metadata": {
      "needs_background": "light"
     },
     "output_type": "display_data"
    }
   ],
   "source": [
    "##visulize the results from cv\n",
    "m, s, _ = plt.stem(np.where(lasso.coef_)[0], lasso.coef_[lasso.coef_ != 0],\n",
    "                   markerfmt='x', label='Lasso coefficients')\n",
    "\n",
    "print(\"from the graph, the number of  predictors that remain in the model is 6\")"
   ]
  },
  {
   "cell_type": "code",
   "execution_count": 20,
   "metadata": {},
   "outputs": [
    {
     "name": "stdout",
     "output_type": "stream",
     "text": [
      "[-6.19039522e-10 -3.39068176e-08  2.83584457e-10  2.68503397e-09\n",
      "  2.57745886e-09 -9.83647327e-11]\n",
      "[-8.18333816e-10 -4.48228173e-08  3.74881962e-10  3.54945688e-09\n",
      "  3.40724893e-09 -1.30032387e-10]\n",
      "[-1.08178914e-09 -5.92531266e-08  4.95571891e-10  4.69217311e-09\n",
      "  4.50418256e-09 -1.71895163e-10]\n",
      "[-1.43006158e-09 -7.83291462e-08  6.55116874e-10  6.20277670e-09\n",
      "  5.95426426e-09 -2.27235289e-10]\n",
      "[-1.89045725e-09 -1.03546521e-07  8.66025951e-10  8.19970575e-09\n",
      "  7.87118692e-09 -3.00391677e-10]\n",
      "[-2.49907322e-09 -1.36882407e-07  1.14483534e-09  1.08395284e-08\n",
      "  1.04052459e-08 -3.97100117e-10]\n",
      "[-3.30362772e-09 -1.80950487e-07  1.51340493e-09  1.43292186e-08\n",
      "  1.37551227e-08 -5.24942981e-10]\n",
      "[-4.36720142e-09 -2.39205894e-07  2.00063225e-09  1.89423837e-08\n",
      "  1.81834626e-08 -6.93943720e-10]\n",
      "[-5.77318324e-09 -3.16216114e-07  2.64471807e-09  2.50407164e-08\n",
      "  2.40374674e-08 -9.17352747e-10]\n",
      "[-7.63180845e-09 -4.18019092e-07  3.49616162e-09  3.31023532e-08\n",
      "  3.17761171e-08 -1.21268632e-09]\n",
      "[-1.00888016e-08 -5.52596637e-07  4.62171986e-09  4.37593626e-08\n",
      "  4.20061566e-08 -1.60309992e-09]\n",
      "[-1.33368018e-08 -7.30500230e-07  6.10964157e-09  5.78473016e-08\n",
      "  5.55296665e-08 -2.11920369e-09]\n",
      "[-1.76304670e-08 -9.65678308e-07  8.07658644e-09  7.64707275e-08\n",
      "  7.34069506e-08 -2.80146245e-09]\n",
      "[-2.33064395e-08 -1.27656988e-06  1.06767717e-08  1.01089800e-07\n",
      "  9.70396675e-08 -3.70336830e-09]\n",
      "[-3.08097409e-08 -1.68755024e-06  1.41140634e-08  1.33634764e-07\n",
      "  1.28280728e-07 -4.89563462e-09]\n",
      "[-4.07286634e-08 -2.23084208e-06  1.86579603e-08  1.76657290e-07\n",
      "  1.69579570e-07 -6.47174029e-09]\n",
      "[-5.38408945e-08 -2.94904190e-06  2.46647240e-08  2.33530533e-07\n",
      "  2.24174206e-07 -8.55525880e-09]\n",
      "[-7.11744913e-08 -3.89845977e-06  3.26053111e-08  3.08713610e-07\n",
      "  2.96345097e-07 -1.13095469e-08]\n",
      "[-9.40884841e-08 -5.15353425e-06  4.31022980e-08  4.08101202e-07\n",
      "  3.91750762e-07 -1.49505524e-08]\n",
      "[-1.24379431e-07 -6.81266876e-06  5.69786937e-08  5.39485735e-07\n",
      "  5.17871423e-07 -1.97637452e-08]\n",
      "[-1.64422273e-07 -9.00594676e-06  7.53224665e-08  7.13168328e-07\n",
      "  6.84595493e-07 -2.61264988e-08]\n",
      "[-2.17356544e-07 -1.19053309e-05  9.95718445e-08  9.42766446e-07\n",
      "  9.04994865e-07 -3.45376777e-08]\n",
      "[-2.87332516e-07 -1.57381456e-05  1.31628078e-07  1.24628156e-06\n",
      "  1.19634980e-06 -4.56567492e-08]\n",
      "[-3.79836601e-07 -2.08049001e-05  1.74004501e-07  1.64751054e-06\n",
      "  1.58150376e-06 -6.03554862e-08]\n",
      "[-5.02121501e-07 -2.75028499e-05  2.30023585e-07  2.17791137e-06\n",
      "  2.09065442e-06 -7.97863148e-08]\n",
      "[-6.63774843e-07 -3.63571425e-05  3.04077425e-07  2.87906961e-06\n",
      "  2.76372129e-06 -1.05472662e-07]\n",
      "[-8.77470876e-07 -4.80619913e-05  4.01972080e-07  3.80595875e-06\n",
      "  3.65347546e-06 -1.39428390e-07]\n",
      "[-1.15996415e-06 -6.35351042e-05  5.31382769e-07  5.03125027e-06\n",
      "  4.82967704e-06 -1.84315667e-07]\n",
      "[-1.53340312e-06 -8.39896340e-05  7.02455587e-07  6.65101116e-06\n",
      "  6.38454444e-06 -2.43653664e-07]\n",
      "[-2.02706653e-06 -1.11029293e-04  9.28602916e-07  8.79223555e-06\n",
      "  8.43998437e-06 -3.22094403e-07]\n",
      "[-2.67965890e-06 -1.46774085e-04  1.22755486e-06  1.16228009e-05\n",
      "  1.11571493e-05 -4.25787397e-07]\n",
      "[-3.54234480e-06 -1.94026518e-04  1.62274908e-06  1.53646288e-05\n",
      "  1.47490714e-05 -5.62861603e-07]\n",
      "[-4.68275989e-06 -2.56491315e-04  2.14516796e-06  2.03110828e-05\n",
      "  1.94973635e-05 -7.44062439e-07]\n",
      "[-6.19031294e-06 -3.39065859e-04  2.83576687e-06  2.68499649e-05\n",
      "  2.57742958e-05 -9.83593692e-07]\n",
      "[-8.18319438e-06 -4.48224124e-04  3.74868385e-06  3.54939139e-05\n",
      "  3.40719776e-05 -1.30023015e-06]\n",
      "[-1.08176402e-05 -5.92524190e-04  4.95548165e-06  4.69205865e-05\n",
      "  4.50409314e-05 -1.71878784e-06]\n",
      "[-1.43001767e-05 -7.83279097e-04  6.55075412e-06  6.20257669e-05\n",
      "  5.95410800e-05 -2.27206666e-06]\n",
      "[-1.89038052e-05 -1.03544361e-03  8.65953496e-06  8.19935622e-05\n",
      "  7.87091386e-05 -3.00341659e-06]\n",
      "[-2.49893914e-05 -1.36878631e-03  1.14470872e-05  1.08389176e-04\n",
      "  1.04047687e-04 -3.97012710e-06]\n",
      "[-3.30339341e-05 -1.80943888e-03  1.51318368e-05  1.43281512e-04\n",
      "  1.37542888e-04 -5.24790239e-06]\n",
      "[-4.36679195e-05 -2.39194363e-03  2.00024560e-05  1.89405185e-04\n",
      "  1.81820054e-04 -6.93676807e-06]\n",
      "[-5.77246772e-05 -3.16195963e-03  2.64404243e-05  2.50374569e-04\n",
      "  2.40349210e-04 -9.16886326e-06]\n",
      "[-7.63055811e-05 -4.17983880e-03  3.49498096e-05  3.30966575e-04\n",
      "  3.17716675e-04 -1.21187128e-05]\n",
      "[-1.00866167e-04 -5.52535106e-03  4.61965676e-05  4.37494099e-04\n",
      "  4.19983811e-04 -1.60167570e-05]\n",
      "[-1.33329840e-04 -7.30392710e-03  6.10603654e-05  5.78299104e-04\n",
      "  5.55160798e-04 -2.11671504e-05]\n",
      "[-1.76237959e-04 -9.65490431e-03  8.07028725e-05  7.64403393e-04\n",
      "  7.33832098e-04 -2.79711396e-05]\n",
      "[-2.32947832e-04 -1.27624160e-02  1.06657653e-04  1.01036703e-03\n",
      "  9.69981855e-04 -3.69577034e-05]\n",
      "[-3.07893750e-04 -1.68697665e-02  1.40948331e-04  1.33541994e-03\n",
      "  1.28208250e-03 -4.88235960e-05]\n",
      "[-4.06930819e-04 -2.22983992e-02  1.86243634e-04  1.76495211e-03\n",
      "  1.69452942e-03 -6.44854791e-05]\n",
      "[-5.37787347e-04 -2.94729106e-02  2.46060323e-04  2.33247391e-03\n",
      "  2.23952991e-03 -8.51474354e-05]\n",
      "[-0.00071066 -0.03895401  0.00032503  0.00308219  0.00295959 -0.00011239]\n",
      "[-0.00093899 -0.05148192  0.00042923  0.00407237  0.00391076 -0.00014827]\n",
      "[-0.00124048 -0.06803339  0.00056666  0.00537977  0.00516693 -0.00019548]\n",
      "[-0.00163844 -0.08989655  0.00074777  0.00710535  0.00682538 -0.0002575 ]\n",
      "[-0.00216347 -0.11876892  0.00098619  0.00938171  0.00901404 -0.0003388 ]\n",
      "[-0.00285572 -0.1568852   0.00129967  0.01238265  0.01190085 -0.0004451 ]\n",
      "[-0.00376767 -0.20718341  0.00171108  0.01633534  0.0157058  -0.00058356]\n",
      "[-0.00496773 -0.27351963  0.00224977  0.02153561  0.0207162  -0.00076304]\n",
      "[-0.00654465 -0.36094327  0.00295295  0.02836687  0.02730585 -0.00099413]\n",
      "[-0.00861284 -0.47604693  0.00386707  0.03732286  0.03595861 -0.00128897]\n",
      "[-0.01131865 -0.62740481  0.00504896  0.04903399  0.04729661 -0.00166046]\n",
      "[-0.01484728 -0.82611287  0.00656598  0.06429621  0.0621128  -0.00212033]\n",
      "[-0.01942976 -1.08643865  0.00849439  0.08409949  0.08140629 -0.00267526]\n",
      "[-0.0253489  -1.42657848  0.01091399  0.10965085  0.10641731 -0.00331979]\n",
      "[-0.03294225 -1.86950172  0.01389688  0.1423831   0.13865565 -0.00402388]\n",
      "[-0.04259911 -2.44383536  0.01748644  0.18393693  0.17991386 -0.00471262]\n",
      "[-0.05474794 -3.18470895  0.02166258  0.23610089  0.23225299 -0.00523485]\n",
      "[-0.06983032 -4.13444754  0.02628891  0.30069557  0.29794913 -0.00531766]\n",
      "[-8.82591614e-02 -5.34297975e+00  3.10400717e-02  3.79398934e-01\n",
      "  3.79394135e-01 -4.50568671e-03]\n",
      "[-1.10363696e-01 -6.86782691e+00  3.53127319e-02  4.73535723e-01\n",
      "  4.78959325e-01 -2.08817433e-03]\n",
      "[-1.36330765e-01 -8.77354022e+00  3.81329955e-02  5.83894125e-01\n",
      "  5.98854801e-01  2.97598485e-03]\n",
      "[ -0.16616048 -11.13038128   0.03808319   0.71067713   0.74104164\n",
      "   0.01211677]\n",
      "[ -0.1996577  -14.01177514   0.03327713   0.85371456   0.9072593\n",
      "   0.02717099]\n",
      "[ -0.23647371 -17.48951864   0.02140794   1.01302155   1.09919533\n",
      "   0.05033722]\n",
      "[-2.76193442e-01 -2.16250538e+01 -1.26446419e-04  1.18967878e+00\n",
      "  1.31874789e+00  8.40568223e-02]\n",
      "[ -0.31844144 -26.45487253  -0.03404016   1.38686317   1.56825181\n",
      "   0.13082623]\n",
      "[ -0.36296898 -31.9691602   -0.08295833   1.61074681   1.85051709\n",
      "   0.19296063]\n",
      "[ -0.40969539 -38.08573476  -0.14924117   1.87095866   2.16860109\n",
      "   0.27233711]\n",
      "[ -0.45870251 -44.62580321  -0.23486679   2.18036736   2.52536775\n",
      "   0.37015215]\n",
      "[ -0.51020514 -51.30209099  -0.34138998   2.5540525    2.92298739\n",
      "   0.48673499]\n",
      "[ -0.56452567 -57.73037462  -0.46997419   3.00745401   3.36251626\n",
      "   0.62145745]\n",
      "[ -0.62208259 -63.46993288  -0.62146662   3.5538234    3.84356161\n",
      "   0.77275581]\n",
      "[ -0.68336966 -68.08781821  -0.79645631   4.20126396   4.36388576\n",
      "   0.93823119]\n",
      "[ -0.74887404 -71.23119332  -0.99524035   4.94984489   4.9187719\n",
      "   1.11475457]\n",
      "[ -0.81887925 -72.68746877  -1.21764583   5.78947038   5.50014514\n",
      "   1.29851635]\n",
      "[ -0.89313536 -72.41614547  -1.46271689   6.69926387   6.09574767\n",
      "   1.48503916]\n",
      "[ -0.97045191 -70.54627113  -1.72834861   7.64902945   6.68891321\n",
      "   1.66926369]\n",
      "[ -1.04835001 -67.34390827  -2.01099719   8.60280509   7.25947233\n",
      "   1.84583787]\n",
      "[ -1.12295354 -63.16095132  -2.30559611   9.52379061   7.78597339\n",
      "   2.00965001]\n",
      "[ -1.18925888 -58.37874072  -2.60576548  10.37938063   8.24884315\n",
      "   2.15649419]\n",
      "[ -1.24179222 -53.35801526  -2.9043263   11.14497183   8.63360253\n",
      "   2.28364652]\n",
      "[ -1.2754994  -48.40260189  -3.1940406   11.80569216   8.93308191\n",
      "   2.39014452]\n",
      "[ -1.28661009 -43.73966703  -3.4684168   12.35598361   9.1478958\n",
      "   2.47668872]\n",
      "[ -1.27323959 -39.51554363  -3.72238356  12.7976981    9.28513046\n",
      "   2.54523885]\n",
      "[ -1.23561721 -35.80361115  -3.95266847  13.13771497   9.35591784\n",
      "   2.59847121]\n",
      "[ -1.1759704  -32.61951459  -4.15781458  13.38593837   9.3729125\n",
      "   2.63926464]\n",
      "[ -1.09816933 -29.93902434  -4.33788761  13.55403997   9.34848365\n",
      "   2.67032119]\n",
      "[ -1.00723195 -27.7147642   -4.4940155   13.6548002    9.29387128\n",
      "   2.69395149]\n",
      "[ -0.9087506  -25.88946193  -4.62792448  13.70164474   9.21902779\n",
      "   2.71200172]\n",
      "[ -0.80828464 -24.40487339  -4.74159005  13.70804127   9.1326745\n",
      "   2.72587605]\n"
     ]
    }
   ],
   "source": [
    "## ridge\n",
    "\n",
    "ridge = Ridge(normalize = True)\n",
    "#ridge.fit(X_train,y_train)\n",
    "i=0\n",
    "coefsrid=[]\n",
    "for a in alphas:\n",
    "    \n",
    "    ridge.set_params(alpha=a)\n",
    "    ridge.fit(X_train, y_train)\n",
    "    coefsrid.append(ridge.coef_)\n",
    "    i=i+1\n",
    "    #if(len(ridge.coef_[ridge.coef_ !=0.0])==3):\n",
    "        #break\n",
    "    print(ridge.coef_[lasso.coef_ != 0.0])\n"
   ]
  },
  {
   "cell_type": "code",
   "execution_count": 21,
   "metadata": {},
   "outputs": [
    {
     "data": {
      "text/plain": [
       "Text(0, 0.5, 'weights')"
      ]
     },
     "execution_count": 21,
     "metadata": {},
     "output_type": "execute_result"
    },
    {
     "data": {
      "image/png": "[encoded data removed]",
      "text/plain": [
       "<Figure size 864x360 with 1 Axes>"
      ]
     },
     "metadata": {
      "needs_background": "light"
     },
     "output_type": "display_data"
    }
   ],
   "source": [
    "plt.figure(figsize=(12,5))    \n",
    "ax = plt.gca()\n",
    "ax.plot(alphas[0:i]*2, coefsrid)\n",
    "ax.set_xscale('log')\n",
    "plt.axis('tight')\n",
    "plt.xlabel('alpha')\n",
    "plt.ylabel('weights')\n",
    "#features_name2=[xlabs[i] for i in np.where(ridge.coef_)[0]]\n",
    "#print(\"from the graph, the final three predictors that remain in the model are\", features_name2)"
   ]
  },
  {
   "cell_type": "code",
   "execution_count": 23,
   "metadata": {},
   "outputs": [
    {
     "data": {
      "image/png": "[encoded data removed]",
      "text/plain": [
       "<Figure size 432x288 with 1 Axes>"
      ]
     },
     "metadata": {
      "needs_background": "light"
     },
     "output_type": "display_data"
    }
   ],
   "source": [
    "###visualization of the coefficient trajectories of ridge\n",
    "m, s, _ = plt.stem(np.where(ridge.coef_)[0], ridge.coef_[ridge.coef_ != 0],\n",
    "                   markerfmt='x', label='ridge coefficients')"
   ]
  },
  {
   "cell_type": "code",
   "execution_count": 26,
   "metadata": {},
   "outputs": [
    {
     "data": {
      "text/plain": [
       "0.5394211648505962"
      ]
     },
     "execution_count": 26,
     "metadata": {},
     "output_type": "execute_result"
    }
   ],
   "source": [
    "####Use cross-validation to find the optimal value of the regularization penality for ridge\n",
    "ridgecv = RidgeCV(alphas = alphas,normalize=True)\n",
    "ridgecv.fit(X_train, y_train)\n",
    "ridge.set_params(alpha=ridgecv.alpha_)\n",
    "ridge.fit(X_train, y_train)\n",
    "mean_squared_error(y_test, ridge.predict(X_test))"
   ]
  },
  {
   "cell_type": "code",
   "execution_count": 25,
   "metadata": {},
   "outputs": [
    {
     "data": {
      "image/png": "[encoded data removed]",
      "text/plain": [
       "<Figure size 432x288 with 1 Axes>"
      ]
     },
     "metadata": {
      "needs_background": "light"
     },
     "output_type": "display_data"
    }
   ],
   "source": [
    "#####visualization of the coefficient trajectories of ridge with cv\n",
    "m, s, _ = plt.stem(np.where(ridgecv.coef_)[0], ridgecv.coef_[ridgecv.coef_ != 0],\n",
    "                   markerfmt='x', label='Lasso coefficients')"
   ]
  },
  {
   "cell_type": "markdown",
   "metadata": {},
   "source": [
    "########2#########\n",
    "##Short Answer. Explain in your own words the bias-variance tradeoff. What\n",
    "role does regularization play in this tradeoff? Make reference to your findings\n",
    "in number (1) to describe models of high/low bias and variance."
   ]
  },
  {
   "cell_type": "markdown",
   "metadata": {},
   "source": [
    "bias–variance tradeoff is that when we perform preditive models in statistics, the models with a lower bias have a higher variance, and vice versa.\n",
    "Regularization plays a role for finding better model complexity for prediction. It uses the way that adding a penalty term to control the model complexity. \n",
    "from 1, we can tell when we use L1 regularization(Lasso) to add penalty would reduce the complexity(feature selection),but compared to the ridge regression which did not reduce the. complexity, lasso get higher mean squared error for test data , it means have higher bias. In this case, low variance tend to have high bias. \n"
   ]
  }
 ],
 "metadata": {
  "kernelspec": {
   "display_name": "Python 3",
   "language": "python",
   "name": "python3"
  },
  "language_info": {
   "codemirror_mode": {
    "name": "ipython",
    "version": 3
   },
   "file_extension": ".py",
   "mimetype": "text/x-python",
   "name": "python",
   "nbconvert_exporter": "python",
   "pygments_lexer": "ipython3",
   "version": "3.7.1"
  }
 },
 "nbformat": 4,
 "nbformat_minor": 2
}
